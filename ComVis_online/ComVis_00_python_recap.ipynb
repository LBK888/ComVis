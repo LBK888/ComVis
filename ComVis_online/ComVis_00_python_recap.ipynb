{
  "nbformat": 4,
  "nbformat_minor": 0,
  "metadata": {
    "colab": {
      "provenance": []
    },
    "kernelspec": {
      "name": "python3",
      "display_name": "Python 3"
    },
    "language_info": {
      "name": "python"
    }
  },
  "cells": [
    {
      "cell_type": "markdown",
      "source": [
        "#AI影像辨識 第0課 -- Python 基礎複習範例\n",
        "本範例展示 Python 的基本語法、運算子、資料型別及常見錯誤提醒，請同學依序閱讀並試著修改或擴充程式碼。\n"
      ],
      "metadata": {
        "id": "VbgvgCsh1A4Y"
      }
    },
    {
      "cell_type": "code",
      "execution_count": null,
      "metadata": {
        "id": "PepMch6ms6qb"
      },
      "outputs": [],
      "source": [
        "# 1. 基本輸出與運算\n",
        "print(\"Hello, World!\")  # 輸出字串\n",
        "\n",
        "# 基本運算子\n",
        "a = 10\n",
        "b = 3\n",
        "print(\"加法: \", a + b)       # 加法\n",
        "print(\"減法: \", a - b)       # 減法\n",
        "print(\"乘法: \", a * b)       # 乘法\n",
        "print(\"除法: \", a / b)       # 除法，結果為浮點數\n",
        "print(\"整數除法: \", a // b)  # 整數除法\n",
        "print(\"餘數: \", a % b)       # 求餘數\n",
        "print(\"次方: \", a ** b)      # 次方\n"
      ]
    },
    {
      "cell_type": "code",
      "source": [
        "# 2. 基本資料型別與資料結構\n",
        "# 字串 (String)\n",
        "name = \"Alice\"\n",
        "print(\"姓名:\", name)\n",
        "\n",
        "# 整數 (Integer) 與 浮點數 (Float)\n",
        "age = 25\n",
        "height = 1.68\n",
        "print(\"年齡:\", age, \"身高:\", height)\n",
        "\n",
        "# 列表 (List)\n",
        "fruits = [\"apple\", \"banana\", \"cherry\"]\n",
        "print(\"水果列表:\", fruits)\n",
        "\n",
        "# 字典 (Dictionary)\n",
        "student = {\"name\": \"Bob\", \"age\": 22, \"major\": \"Computer Science\"}\n",
        "print(\"學生資料:\", student)\n",
        "\n",
        "# 元組 (Tuple)\n",
        "coordinates = (10, 20)\n",
        "print(\"座標:\", coordinates)\n",
        "\n",
        "# 集合 (Set)\n",
        "unique_numbers = {1, 2, 3, 2, 1}\n",
        "print(\"唯一數字集合:\", unique_numbers)\n"
      ],
      "metadata": {
        "id": "-uVbAEmo1kgK"
      },
      "execution_count": null,
      "outputs": []
    },
    {
      "cell_type": "code",
      "source": [
        "# 3. 資料型別錯誤與型別轉換\n",
        "txt=\"這是字串1\"\n",
        "L=36\n",
        "print(txt)\n",
        "print(L)\n",
        "print(txt,L)\n",
        "\n",
        "print(type(txt))\n",
        "print(type(L))\n",
        "\n",
        "#print(txt+L)  #這個會導致錯誤\n",
        "print(txt+str(L)) #轉換型別之後才能跟字串組合\n",
        "\n",
        "T=\"5\"\n",
        "F=36.6\n",
        "print(int(F)) #小數點直接被刪除，不是四捨五入\n",
        "print(F+int(T))\n",
        "print(type(F))\n",
        "\n"
      ],
      "metadata": {
        "id": "WhC9zpSt2oRh"
      },
      "execution_count": null,
      "outputs": []
    },
    {
      "cell_type": "code",
      "source": [
        "# 4. 條件判斷與迴圈\n",
        "# if 條件語句 (注意: == 為相等比較)\n",
        "x = 5\n",
        "if x == 5:\n",
        "    print(\"x 等於 5\")\n",
        "    print(\"這是第二行\")\n",
        "else:\n",
        "    print(\"x 不等於 5\")\n",
        "\n",
        "# for 迴圈\n",
        "for fruit in fruits:\n",
        "    print(\"我喜歡吃\", fruit)\n",
        "\n",
        "# while 迴圈\n",
        "count = 5\n",
        "while count < 3:\n",
        "    print(\"計數:\", count)\n",
        "    count += 1  # 注意：正確的遞增寫法\n"
      ],
      "metadata": {
        "id": "bn83lSOe1o1r"
      },
      "execution_count": null,
      "outputs": []
    },
    {
      "cell_type": "code",
      "source": [
        "# 5. 縮排 (indentation )\n",
        "# Python取消大括號來識別程式碼區塊，改用4個空白(或一個tab)來辨認哪幾行程式是一起的\n",
        "\n",
        "# for 迴圈\n",
        "for fruit in fruits:\n",
        "    print(\"我喜歡吃\", fruit)\n",
        "print(len(fruit))\n"
      ],
      "metadata": {
        "id": "zgLGP6PX10ik"
      },
      "execution_count": null,
      "outputs": []
    },
    {
      "cell_type": "code",
      "source": [
        "# 6. 函數定義與常見錯誤提醒\n",
        "def add_numbers(num1, num2):\n",
        "    \"\"\"\n",
        "    傳入兩個數字，返回相加結果。\n",
        "    注意：不要混淆賦值 (=) 與比較 (==)\n",
        "    \"\"\"\n",
        "    return num1 + num2\n",
        "\n",
        "result = add_numbers(7,3)\n",
        "print(\"7 + 3 =\", result)\n",
        "\n",
        "\n",
        "# 常見錯誤示範：\n",
        "# 錯誤的縮排、漏打冒號或使用錯誤的比較運算子，會造成 SyntaxError\n",
        "# 例如，下列程式碼錯誤的寫法已被註解：\n",
        "# def wrong_func(a, b)\n",
        "# print(a + b)\n",
        "\n"
      ],
      "metadata": {
        "id": "tYqHeyTt1r1j"
      },
      "execution_count": null,
      "outputs": []
    },
    {
      "cell_type": "code",
      "source": [
        "# 7. 套件的使用：NumPy 與 Pandas\n",
        "import numpy as np\n",
        "import pandas as pd\n",
        "\n",
        "# 使用 numpy 建立一個陣列並計算平均值\n",
        "arr = np.array([1, 2, 3, 4, 5])\n",
        "print(\"陣列:\", arr)\n",
        "print(\"平均值:\", np.mean(arr))\n",
        "\n",
        "# 使用 pandas 建立 DataFrame\n",
        "data = {\n",
        "    \"Name\": [\"Alice\", \"Bob\", \"Charlie\"],\n",
        "    \"Score\": [85, 92, 78]\n",
        "}\n",
        "df = pd.DataFrame(data)\n",
        "print(\"DataFrame:\")\n",
        "print(df)\n",
        "\n"
      ],
      "metadata": {
        "id": "oCprQh0m1uiy"
      },
      "execution_count": null,
      "outputs": []
    },
    {
      "cell_type": "code",
      "source": [
        "# 8. 錯誤處理範例\n",
        "try:\n",
        "    # 假設執行除法時 b 可能為 0\n",
        "    c = a / 0\n",
        "except ZeroDivisionError as e:\n",
        "    print(\"錯誤: 除以零發生異常 ->\", e)\n"
      ],
      "metadata": {
        "id": "mi60aYkZ1w6f"
      },
      "execution_count": null,
      "outputs": []
    }
  ]
}