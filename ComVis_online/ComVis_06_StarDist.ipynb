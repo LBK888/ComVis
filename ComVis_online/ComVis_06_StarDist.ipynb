{
  "nbformat": 4,
  "nbformat_minor": 0,
  "metadata": {
    "colab": {
      "provenance": [],
      "gpuType": "T4"
    },
    "kernelspec": {
      "name": "python3",
      "display_name": "Python 3"
    },
    "language_info": {
      "name": "python"
    },
    "accelerator": "GPU"
  },
  "cells": [
    {
      "cell_type": "markdown",
      "source": [
        "# **AI影像辨識 第6課 -- StarDist 細胞分割套件**\n",
        "\n",
        "可用於辨識2D或3D細胞核的開源模型與套件\n",
        "\n",
        "StarDist開源網址，與說明:  \n",
        "https://github.com/stardist/stardist\n",
        "\n",
        "ImageJ套件，安裝與說明:  \n",
        "https://imagej.net/plugins/stardist"
      ],
      "metadata": {
        "id": "7xXvS4gv8kF-"
      }
    },
    {
      "cell_type": "code",
      "execution_count": null,
      "metadata": {
        "id": "Y4oBWy3N5-eU"
      },
      "outputs": [],
      "source": [
        "#安裝套件\n",
        "!pip install stardist\n",
        "# Reinstall NumPy.\n",
        "!pip install -U numpy==1.26.0\n",
        "# Restart the runtime or kernel."
      ]
    },
    {
      "cell_type": "code",
      "source": [
        "from stardist.models import StarDist2D\n",
        "\n",
        "# prints a list of available models\n",
        "StarDist2D.from_pretrained()\n",
        "\n",
        "# creates a pretrained model 導入預訓練模型\n",
        "model = StarDist2D.from_pretrained('2D_versatile_fluo')"
      ],
      "metadata": {
        "id": "hh-zMYCT_Ien"
      },
      "execution_count": null,
      "outputs": []
    },
    {
      "cell_type": "code",
      "source": [
        "from stardist.data import test_image_nuclei_2d\n",
        "from stardist.plot import render_label\n",
        "from csbdeep.utils import normalize\n",
        "import matplotlib.pyplot as plt\n",
        "\n",
        "img = test_image_nuclei_2d()\n",
        "\n",
        "labels, _ = model.predict_instances(normalize(img))\n",
        "\n",
        "plt.subplot(1,2,1)\n",
        "plt.imshow(img, cmap=\"gray\")\n",
        "plt.axis(\"off\")\n",
        "plt.title(\"input image\")\n",
        "\n",
        "plt.subplot(1,2,2)\n",
        "plt.imshow(render_label(labels, img=img))\n",
        "plt.axis(\"off\")\n",
        "plt.title(\"prediction + input overlay\")"
      ],
      "metadata": {
        "id": "IdkHQyw9_oIv"
      },
      "execution_count": null,
      "outputs": []
    },
    {
      "cell_type": "markdown",
      "source": [
        "# 以下示範如何使用stardist來處理youtube上的影片"
      ],
      "metadata": {
        "id": "ifQpfa8pDmGs"
      }
    },
    {
      "cell_type": "code",
      "source": [
        "# 安裝模組\n",
        "!pip install yt-dlp"
      ],
      "metadata": {
        "id": "NU5m48FHFtoA"
      },
      "execution_count": null,
      "outputs": []
    },
    {
      "cell_type": "code",
      "source": [
        "# 讀取 YouTube 影片\n",
        "!yt-dlp https://youtu.be/lQLsyf64xak"
      ],
      "metadata": {
        "id": "RlilGWr3F3gf"
      },
      "execution_count": null,
      "outputs": []
    },
    {
      "cell_type": "code",
      "source": [
        "import cv2\n",
        "import numpy as np\n",
        "from stardist.models import StarDist2D\n",
        "from stardist.data import test_image_nuclei_2d\n",
        "from stardist.plot import render_label\n",
        "from csbdeep.utils import normalize\n",
        "import matplotlib.pyplot as plt\n",
        "from google.colab.patches import cv2_imshow\n",
        "\n",
        "\n",
        "# 載入 StarDist 模型\n",
        "model = StarDist2D.from_pretrained('2D_versatile_fluo')\n",
        "\n",
        "# 設定參數\n",
        "AI_cutoff_prob = 0.4\n",
        "\n",
        "url = \"https://youtu.be/lQLsyf64xak\"\n",
        "\n",
        "# 開啟下載影片\n",
        "cap = cv2.VideoCapture('/content/Zebrafish Embryo Growing Its Elaborate Sensory Nervous System ｜ 2018 Nikon Small World [lQLsyf64xak].webm')\n",
        "\n",
        "# 取得影片尺寸\n",
        "width = int(cap.get(cv2.CAP_PROP_FRAME_WIDTH))\n",
        "height = int(cap.get(cv2.CAP_PROP_FRAME_HEIGHT))\n",
        "\n",
        "# 建立 VideoWriter 物件\n",
        "fourcc = cv2.VideoWriter_fourcc(*'XVID')\n",
        "out = cv2.VideoWriter('output.avi', fourcc, 20.0, (width, height))\n",
        "\n",
        "# 處理每一幀\n",
        "while(cap.isOpened()):\n",
        "    ret, frame = cap.read()\n",
        "    if ret==True:\n",
        "        # 將彩色影像轉換為灰階影像\n",
        "        gray = cv2.cvtColor(frame, cv2.COLOR_BGR2GRAY)\n",
        "\n",
        "        # 使用 StarDist 模型進行細胞核辨識\n",
        "        labels, details = model.predict_instances(normalize(gray))\n",
        "\n",
        "        # 標記細胞核\n",
        "        for i in range(len(details['points'])):\n",
        "            if (details['prob'][i] > AI_cutoff_prob):\n",
        "                cv2.circle(frame, (int(details['points'][i][1]), int(details['points'][i][0])), 5, (0, 255, 0), -1)\n",
        "\n",
        "        # 將處理後的幀寫入輸出影片\n",
        "        out.write(frame)\n",
        "\n",
        "        cv2_imshow(frame)\n",
        "        if cv2.waitKey(1) & 0xFF == ord('q'):\n",
        "            break\n",
        "    else:\n",
        "        break\n",
        "\n",
        "# 釋放資源\n",
        "cap.release()\n",
        "out.release()\n",
        "cv2.destroyAllWindows()"
      ],
      "metadata": {
        "id": "QDWy2v3bByaX"
      },
      "execution_count": null,
      "outputs": []
    }
  ]
}