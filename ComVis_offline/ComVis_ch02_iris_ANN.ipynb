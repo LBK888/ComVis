{
 "cells": [
  {
   "cell_type": "markdown",
   "metadata": {
    "id": "f23gmj68htGs"
   },
   "source": [
    "#iris 資料集\n",
    "wiki:  \n",
    "https://en.wikipedia.org/wiki/Iris_flower_data_set\n",
    "\n",
    "sklearn:  \n",
    "https://scikit-learn.org/stable/datasets/toy_dataset.html\n",
    "\n",
    "kaggle:  \n",
    "https://www.kaggle.com/datasets/uciml/iris"
   ]
  },
  {
   "cell_type": "code",
   "execution_count": null,
   "metadata": {
    "colab": {
     "base_uri": "https://localhost:8080/",
     "height": 904
    },
    "executionInfo": {
     "elapsed": 2396,
     "status": "ok",
     "timestamp": 1741231245523,
     "user": {
      "displayName": "廖柏凱",
      "userId": "03363123573677576177"
     },
     "user_tz": -480
    },
    "id": "4h6MBslDh313",
    "outputId": "3cb5bafa-c0f3-4fde-ab27-dae0ab5c82c5"
   },
   "outputs": [],
   "source": [
    "# Authors: The scikit-learn developers\n",
    "# https://scikit-learn.org/stable/auto_examples/decomposition/plot_pca_vs_lda.html\n",
    "# SPDX-License-Identifier: BSD-3-Clause\n",
    "\n",
    "import matplotlib.pyplot as plt\n",
    "\n",
    "from sklearn import datasets\n",
    "from sklearn.decomposition import PCA\n",
    "from sklearn.discriminant_analysis import LinearDiscriminantAnalysis\n",
    "\n",
    "iris = datasets.load_iris()\n",
    "\n",
    "X = iris.data\n",
    "y = iris.target\n",
    "target_names = iris.target_names\n",
    "\n",
    "pca = PCA(n_components=2)\n",
    "X_r = pca.fit(X).transform(X)\n",
    "\n",
    "lda = LinearDiscriminantAnalysis(n_components=2)\n",
    "X_r2 = lda.fit(X, y).transform(X)\n",
    "\n",
    "# Percentage of variance explained for each components\n",
    "print(\n",
    "    \"explained variance ratio (first two components): %s\"\n",
    "    % str(pca.explained_variance_ratio_)\n",
    ")\n",
    "\n",
    "plt.figure()\n",
    "colors = [\"navy\", \"turquoise\", \"darkorange\"]\n",
    "lw = 2\n",
    "\n",
    "for color, i, target_name in zip(colors, [0, 1, 2], target_names):\n",
    "    plt.scatter(\n",
    "        X_r[y == i, 0], X_r[y == i, 1], color=color, alpha=0.8, lw=lw, label=target_name\n",
    "    )\n",
    "plt.legend(loc=\"best\", shadow=False, scatterpoints=1)\n",
    "plt.title(\"PCA of IRIS dataset\")\n",
    "\n",
    "plt.figure()\n",
    "for color, i, target_name in zip(colors, [0, 1, 2], target_names):\n",
    "    plt.scatter(\n",
    "        X_r2[y == i, 0], X_r2[y == i, 1], alpha=0.8, color=color, label=target_name\n",
    "    )\n",
    "plt.legend(loc=\"best\", shadow=False, scatterpoints=1)\n",
    "plt.title(\"LDA of IRIS dataset\")\n",
    "\n",
    "plt.show()"
   ]
  },
  {
   "cell_type": "code",
   "execution_count": null,
   "metadata": {
    "colab": {
     "base_uri": "https://localhost:8080/",
     "height": 636
    },
    "executionInfo": {
     "elapsed": 9841,
     "status": "ok",
     "timestamp": 1741231563757,
     "user": {
      "displayName": "廖柏凱",
      "userId": "03363123573677576177"
     },
     "user_tz": -480
    },
    "id": "qajDO5qfeFbu",
    "outputId": "df8b7b7d-ffc6-406e-efc6-effa6ef72f6a"
   },
   "outputs": [],
   "source": [
    "# 載入必要的套件\n",
    "import numpy as np\n",
    "import torch\n",
    "import torch.nn as nn\n",
    "import torch.optim as optim\n",
    "from sklearn import datasets\n",
    "from sklearn.model_selection import train_test_split\n",
    "from sklearn.metrics import accuracy_score, precision_score, recall_score, confusion_matrix, f1_score\n",
    "import matplotlib.pyplot as plt\n",
    "import seaborn as sns\n",
    "\n",
    "# 1. 載入 iris 資料集\n",
    "iris = datasets.load_iris()\n",
    "X = iris.data  # 特徵 (4 維)\n",
    "y = iris.target  # 類別標籤 (共3類)\n",
    "\n",
    "# 2. 資料切分 (訓練與測試集)\n",
    "X_train, X_test, y_train, y_test = train_test_split(X, y, test_size=0.2, random_state=42)\n",
    "\n",
    "# 3. 轉換資料型態成為 torch tensor\n",
    "X_train = torch.tensor(X_train, dtype=torch.float32)\n",
    "X_test  = torch.tensor(X_test, dtype=torch.float32)\n",
    "y_train = torch.tensor(y_train, dtype=torch.long)\n",
    "y_test  = torch.tensor(y_test, dtype=torch.long)\n",
    "\n",
    "# 4. 定義簡單神經網路 (全連接層)\n",
    "class SimpleNN(nn.Module):\n",
    "    def __init__(self, input_dim, hidden_dim, output_dim):\n",
    "        super(SimpleNN, self).__init__()\n",
    "        self.net = nn.Sequential(\n",
    "            nn.Linear(input_dim, hidden_dim),\n",
    "            nn.ReLU(),\n",
    "            nn.Linear(hidden_dim, output_dim)\n",
    "        )\n",
    "\n",
    "    def forward(self, x):\n",
    "        return self.net(x)\n",
    "\n",
    "# 5. 建立模型、定義損失函數與優化器\n",
    "model = SimpleNN(input_dim=4, hidden_dim=10, output_dim=3)\n",
    "criterion = nn.CrossEntropyLoss()\n",
    "optimizer = optim.Adam(model.parameters(), lr=0.01)\n",
    "\n",
    "# 6. 模型訓練\n",
    "num_epochs = 100\n",
    "for epoch in range(num_epochs):\n",
    "    model.train()\n",
    "    optimizer.zero_grad()\n",
    "    outputs = model(X_train)\n",
    "    loss = criterion(outputs, y_train)\n",
    "    loss.backward()\n",
    "    optimizer.step()\n",
    "\n",
    "    if (epoch+1) % 20 == 0:\n",
    "        print(f'Epoch [{epoch+1}/{num_epochs}], Loss: {loss.item():.4f}')\n",
    "\n",
    "# 7. 模型測試與評估\n",
    "model.eval()\n",
    "with torch.no_grad():\n",
    "    y_pred_logits = model(X_test)\n",
    "    _, y_pred = torch.max(y_pred_logits, 1)\n",
    "\n",
    "# 8. 使用 sklearn 計算各項指標\n",
    "y_test_np = y_test.numpy()\n",
    "y_pred_np = y_pred.numpy()\n",
    "\n",
    "accuracy = accuracy_score(y_test_np, y_pred_np)\n",
    "precision = precision_score(y_test_np, y_pred_np, average='weighted')\n",
    "recall = recall_score(y_test_np, y_pred_np, average='weighted')\n",
    "f1 = f1_score(y_test_np, y_pred_np, average='weighted')\n",
    "cm = confusion_matrix(y_test_np, y_pred_np)\n",
    "\n",
    "print(f'Accuracy: {accuracy:.4f}')\n",
    "print(f'Precision: {precision:.4f}')\n",
    "print(f'Recall: {recall:.4f}')\n",
    "print(f'F1 Score: {f1:.4f}')\n",
    "print(\"Confusion Matrix:\\n\", cm)\n",
    "\n",
    "# 9. 繪製混淆矩陣\n",
    "plt.figure(figsize=(6,4))\n",
    "sns.heatmap(cm, annot=True, fmt='d', cmap='Blues',\n",
    "            xticklabels=iris.target_names, yticklabels=iris.target_names)\n",
    "plt.xlabel('Predicted')\n",
    "plt.ylabel('True')\n",
    "plt.title('Iris Confusion Matrix')\n",
    "plt.show()\n"
   ]
  },
  {
   "cell_type": "code",
   "execution_count": null,
   "metadata": {
    "colab": {
     "base_uri": "https://localhost:8080/"
    },
    "executionInfo": {
     "elapsed": 26286,
     "status": "ok",
     "timestamp": 1741232294239,
     "user": {
      "displayName": "廖柏凱",
      "userId": "03363123573677576177"
     },
     "user_tz": -480
    },
    "id": "X4OeZQJZhZMO",
    "outputId": "ec7f85b2-33ff-4abf-c87c-345e05253372"
   },
   "outputs": [],
   "source": [
    "# prompt: 請將前面pytorch訓練完成的model，存成未來可以使用的檔案。\n",
    "# 存完之後請再讀取進來，讓使用者輸入四個input值，讓model預測是三種iris的哪一種\n",
    "\n",
    "# Save the trained model\n",
    "torch.save(model.state_dict(), 'iris_model.pth')\n",
    "\n",
    "# Load the saved model\n",
    "model = SimpleNN(input_dim=4, hidden_dim=10, output_dim=3)\n",
    "model.load_state_dict(torch.load('iris_model.pth'))\n",
    "model.eval()\n",
    "\n",
    "# Get user input\n",
    "input_values = []\n",
    "for i in range(4):\n",
    "    while True:\n",
    "        try:\n",
    "            value = float(input(f\"Enter input value {i+1}: \"))\n",
    "            input_values.append(value)\n",
    "            break\n",
    "        except ValueError:\n",
    "            print(\"Invalid input. Please enter a number.\")\n",
    "\n",
    "# Make prediction\n",
    "input_tensor = torch.tensor([input_values], dtype=torch.float32)\n",
    "with torch.no_grad():\n",
    "    output = model(input_tensor)\n",
    "    _, predicted_class = torch.max(output, 1)\n",
    "\n",
    "# Print the predicted class\n",
    "predicted_class_name = iris.target_names[predicted_class.item()]\n",
    "print(f\"Predicted Iris type: {predicted_class_name}\")\n"
   ]
  },
  {
   "cell_type": "code",
   "execution_count": null,
   "metadata": {
    "colab": {
     "base_uri": "https://localhost:8080/"
    },
    "executionInfo": {
     "elapsed": 9761,
     "status": "ok",
     "timestamp": 1741232418412,
     "user": {
      "displayName": "廖柏凱",
      "userId": "03363123573677576177"
     },
     "user_tz": -480
    },
    "id": "Ms821XqMid1D",
    "outputId": "3d6e43c2-4ebf-43ca-f42b-c53b0568c4a6"
   },
   "outputs": [],
   "source": [
    "\n",
    "# Get user input\n",
    "input_values = []\n",
    "for i in range(4):\n",
    "    while True:\n",
    "        try:\n",
    "            value = float(input(f\"Enter input value {i+1}: \"))\n",
    "            input_values.append(value)\n",
    "            break\n",
    "        except ValueError:\n",
    "            print(\"Invalid input. Please enter a number.\")\n",
    "\n",
    "# Make prediction\n",
    "input_tensor = torch.tensor([input_values], dtype=torch.float32)\n",
    "with torch.no_grad():\n",
    "    output = model(input_tensor)\n",
    "    _, predicted_class = torch.max(output, 1)\n",
    "\n",
    "# Print the predicted class\n",
    "predicted_class_name = iris.target_names[predicted_class.item()]\n",
    "print(f\"Predicted Iris type: {predicted_class_name}\")\n"
   ]
  }
 ],
 "metadata": {
  "colab": {
   "provenance": []
  },
  "kernelspec": {
   "display_name": "Python 3",
   "name": "python3"
  },
  "language_info": {
   "name": "python"
  }
 },
 "nbformat": 4,
 "nbformat_minor": 0
}
