{
 "cells": [
  {
   "cell_type": "code",
   "execution_count": null,
   "metadata": {
    "colab": {
     "base_uri": "https://localhost:8080/",
     "height": 1000
    },
    "executionInfo": {
     "elapsed": 297,
     "status": "ok",
     "timestamp": 1740628311791,
     "user": {
      "displayName": "廖柏凱",
      "userId": "03363123573677576177"
     },
     "user_tz": -480
    },
    "id": "FuFSgd2GfhJk",
    "outputId": "6f9ad165-f5df-4cf5-bd50-373da6bd9406"
   },
   "outputs": [],
   "source": [
    "# prompt: 請寫一隻可以讀取URL照片的程式，請用open-cv來讀取照片，讀取後請顯示出來\n",
    "\n",
    "import cv2\n",
    "import numpy as np\n",
    "from urllib.request import urlopen\n",
    "from google.colab.patches import cv2_imshow\n",
    "\n",
    "def show_image_from_url(image_url):\n",
    "    \"\"\"\n",
    "    Reads an image from a URL using OpenCV and displays it.\n",
    "\n",
    "    Args:\n",
    "        image_url: The URL of the image.\n",
    "    \"\"\"\n",
    "    try:\n",
    "        resp = urlopen(image_url)\n",
    "        image = np.asarray(bytearray(resp.read()), dtype=\"uint8\")\n",
    "        image = cv2.imdecode(image, cv2.IMREAD_COLOR)\n",
    "\n",
    "        # image 是一種numpy array。可直接用array的運算進行各種處理\n",
    "        image = image * 0.5     # * 0.5 = 亮度減半\n",
    "\n",
    "        if image is not None:\n",
    "            cv2_imshow(image)\n",
    "        else:\n",
    "            print(\"Error: Could not decode the image.\")\n",
    "\n",
    "\n",
    "        print(image)\n",
    "\n",
    "    except Exception as e:\n",
    "        print(f\"Error: {e}\")\n",
    "\n",
    "\n",
    "# Example usage:\n",
    "image_url = \"https://upload.wikimedia.org/wikipedia/commons/thumb/4/41/Sunflower_from_Silesia2.jpg/800px-Sunflower_from_Silesia2.jpg\"  # Example image URL\n",
    "#image_url = \"https://thispersondoesnotexist.com/\"\n",
    "show_image_from_url(image_url)\n"
   ]
  }
 ],
 "metadata": {
  "colab": {
   "authorship_tag": "ABX9TyNds+A/PI532+x9eGmxvgyM",
   "provenance": []
  },
  "kernelspec": {
   "display_name": "Python 3",
   "name": "python3"
  },
  "language_info": {
   "name": "python"
  }
 },
 "nbformat": 4,
 "nbformat_minor": 0
}
